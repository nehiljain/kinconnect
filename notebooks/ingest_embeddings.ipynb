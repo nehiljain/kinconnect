{
 "cells": [
  {
   "cell_type": "code",
   "execution_count": 1,
   "metadata": {},
   "outputs": [
    {
     "name": "stderr",
     "output_type": "stream",
     "text": [
      "\u001b[32m2024-06-14 19:36:39.274\u001b[0m | \u001b[1mINFO    \u001b[0m | \u001b[36mkinconnect_api.config\u001b[0m:\u001b[36m<module>\u001b[0m:\u001b[36m15\u001b[0m - \u001b[1mPROJ_ROOT path is: /Users/nehiljain/code/kinconnect/kinconnect_api\u001b[0m\n"
     ]
    }
   ],
   "source": [
    "from kinconnect_api.config import MONGO_CONNECTION_STRING\n",
    "from pymongo import MongoClient\n",
    "from langchain_mongodb import MongoDBAtlasVectorSearch\n",
    "from langchain_fireworks import FireworksEmbeddings\n",
    "from langchain_text_splitters import MarkdownHeaderTextSplitter\n",
    "from langchain_text_splitters import MarkdownHeaderTextSplitter\n",
    "from textwrap import dedent\n",
    "# Connect to MongoDB\n",
    "client = MongoClient(MONGO_CONNECTION_STRING)\n",
    "db = client['kinconnect']\n",
    "profiles_collection = db['demo_profiles']\n",
    "vector_search_index = \"demo_embedding_idx\"\n"
   ]
  },
  {
   "cell_type": "code",
   "execution_count": 5,
   "metadata": {},
   "outputs": [
    {
     "name": "stdout",
     "output_type": "stream",
     "text": [
      "profile_doc: {'_id': ObjectId('666cfd62e6c1d0ec5d80eed7'), 'name': 'Chloe', 'career': [{'company': 'Netflix', 'title': 'Senior Software Engineer', 'description': 'Led the development and deployment of an advanced recommendation engine for Netflix. This project aimed to enhance the accuracy and personalization of content recommendations for users by integrating machine learning algorithms. The system utilized user behavior data, viewing history, and ratings to predict and suggest content that matched user preferences. The project included a real-time processing pipeline to ensure recommendations were updated dynamically as user interactions occurred.', 'start_date': 'Jun 2018', 'end_date': 'Present'}], 'elevator_pitch': 'Experienced back end developer with 10 years of experience. Built and deployed backend databases for Netflix, including adding AI functionality to Netflix recommendation engines. Interested in Rags and AI LLMs.', 'honors': [], 'interests': ['Rags', 'AI LLMs'], 'past_projects': [{'title': \"Chloe's Profile\", 'description': 'A profile for Chloe, a back-end developer with experience in AI and machine learning.'}], 'skills': ['Back end development', 'Database management', 'AI integration']}\n",
      "inserting 7 documents\n",
      "profile_doc: {'_id': ObjectId('666cfd62e6c1d0ec5d80ef11'), 'name': 'Jiro', 'career': [{'company': 'Uber', 'title': 'Product Manager', 'description': \"Led the project to redesign the Uber Driver app, focusing on improving user experience and functionality for drivers. The redesign included a complete overhaul of the app's interface, streamlining the onboarding process, optimizing navigation, and integrating real-time feedback mechanisms. The new design aimed to enhance driver satisfaction and efficiency, resulting in increased driver retention and better service quality.\", 'start_date': '2020-01-01', 'end_date': 'Present'}], 'elevator_pitch': 'Passionate product manager with a background in AI and a focus on using technology to combat climate change. Honored to have served as a Product Manager at Uber, contributing to the development of the mobile app for drivers.', 'honors': ['Product Manager at Uber'], 'interests': ['AI', 'Climate Change'], 'past_projects': [{'title': 'Jiro', 'description': 'A Product Manager with a passion for using AI to solve climate change. Has experience in building and enhancing mobile apps, particularly the Uber Driver app. Skilled in product management, user experience design, data analysis, and agile methodologies.'}], 'skills': ['Product Management']}\n",
      "inserting 7 documents\n",
      "profile_doc: {'_id': ObjectId('666cfd62e6c1d0ec5d80ef1d'), 'name': 'Abdul', 'career': [{'company': 'StatedBuilds', 'title': 'Business Development Manager', 'description': 'Using AI to make building construction and development more efficient', 'start_date': '20 years', 'end_date': 'Present'}], 'elevator_pitch': \"I'm Abdul, a seasoned professional with 20 years of experience in Business Strategy, Business Development, and Marketing. My interests lie in using AI to make building construction and development more efficient. I am passionate about leveraging technology to enhance the real estate industry.\", 'honors': [], 'interests': ['AI', 'building construction', 'development'], 'past_projects': [{'title': \"Abdul's Profile\", 'description': 'A profile for Abdul, a business development manager with a focus on AI in construction and development.'}], 'skills': ['Business Strategy', 'Business Development', 'Marketing']}\n",
      "inserting 7 documents\n",
      "profile_doc: {'_id': ObjectId('666cfd62e6c1d0ec5d80ef71'), 'name': 'Tim', 'career': [{'company': 'Tim', 'title': 'Frontend Engineer', 'description': 'A Frontend Engineer with extensive experience in building user interfaces, having worked on the UX at Citizen, an app that tracks police incidents in your neighborhood. They have a proven track record of creating intuitive and responsive designs that enhance user engagement and accessibility. With a strong background in frontend technologies and a passion for improving community safety, they ensure that every project they undertake is both functional and impactful.', 'start_date': 'N/A', 'end_date': 'N/A'}], 'elevator_pitch': 'Experienced frontend engineer with a passion for using AI to solve societal issues. Worked on building UX for Citizen, a platform tracking police incidents in neighborhoods.', 'honors': [], 'interests': ['using AI to solve the loneliness problem'], 'past_projects': [{'title': 'Tim', 'description': 'A frontend engineer with a passion for using AI to solve the loneliness problem. Has extensive experience in building user interfaces, having worked on the UX at Citizen, an app that tracks police incidents in your neighborhood. Interested in meeting people with a specific skill set, such as business strategy, back end development, and product.'}], 'skills': ['Frontend engineering', 'UX design']}\n",
      "inserting 7 documents\n",
      "profile_doc: {'_id': ObjectId('666cfd62e6c1d0ec5d80ef84'), 'name': 'Elijah', 'career': [{'company': 'Micro Quant Fund', 'title': 'Backend Engineer', 'description': \"Developed and maintained a robust data synchronization system for Slack's mobile app, created APIs and backend services for seamless data synchronization, implemented efficient data storage solutions, and ensured low latency and high availability. Engineered a scalable notification service for Meta's mobile app to handle millions of notifications daily, designing and implementing backend services for high traffic and efficient push notification delivery. Designed and developed a comprehensive data management platform for Micro Quant Fund, optimizing databases for large volumes of financial data, implementing ETL pipelines for data ingestion and cleaning, and ensuring data integrity and accessibility for quantitative analysis and reporting.\", 'start_date': 'Jan 2021', 'end_date': 'Present'}], 'elevator_pitch': 'Passionate backend engineer with experience working on databases for popular mobile apps like Slack and Meta. Interested in using AI to promote empathy.', 'honors': None, 'interests': ['Using AI to create more empathy'], 'past_projects': [{'title': 'Elijah', 'description': 'A participant at a hackathon with interests in using AI to create empathy. Backend engineer with experience in databases for mobile apps such as Slack and Meta. Seeking to meet product managers, strategic business individuals, and those with a background in psychology.'}], 'skills': ['Backend engineering', 'Database management']}\n",
      "inserting 7 documents\n",
      "profile_doc: {'_id': ObjectId('666cfd62e6c1d0ec5d80efbb'), 'name': 'Jose', 'career': [{'company': 'Google', 'title': 'Senior Software Engineer', 'description': 'Worked as a Senior Software Engineer at Google from January 2016 to Present.', 'start_date': 'January 2016', 'end_date': 'Present'}], 'elevator_pitch': 'Product manager with a passion for using AI to create an AI tutor that enhances critical thinking, problem solving, and philosophical questioning. Winner of Best Product Design at last hackathon. Project idea: How can AI bot help students learn to ask questions and think more critically and problem solve better.', 'honors': ['Winner of Best Product Design at last hackathon'], 'interests': ['AI', 'Critical Thinking', 'Problem Solving', 'Philosophical Questions'], 'past_projects': [{'title': 'Jose', 'description': 'A participant at a hackathon with an interest in using AI to create an AI tutor that makes students better at critical thinking, problem solving and thinking about philosophical questions. They have experience as a Product Manager and have worked at Google and Facebook. They are looking to meet front end and back end developers.'}], 'skills': ['Product Management', 'AI', 'Problem Solving']}\n",
      "inserting 7 documents\n",
      "profile_doc: {'_id': ObjectId('666cfd62e6c1d0ec5d80efca'), 'name': 'Govindah', 'career': [{'company': 'Govindah', 'title': 'Data Engineer', 'description': \"Designs and implements robust data infrastructure to support seamless ride-sharing experiences. Led key projects, including optimizing data pipelines for real-time analytics and developing scalable storage solutions for high-volume data. Background in computer science and extensive experience in big data technologies, ensuring Uber's data systems are efficient, reliable, and innovative.\", 'start_date': 'N/A', 'end_date': 'N/A'}], 'elevator_pitch': 'Experienced data engineer with 5 years of work at Uber. Interested in AI recommendation and Marketplace projects.', 'honors': [], 'interests': ['AI recommendation', 'Marketplace'], 'past_projects': [{'title': 'Govindah', 'description': 'A data engineer with 5 years of experience at Uber, specializing in designing and implementing robust data infrastructure for seamless ride-sharing experiences. Interested in AI recommendation and looking to meet front end developers, back end developers, and product professionals.'}], 'skills': ['Data engineer']}\n",
      "inserting 7 documents\n",
      "profile_doc: {'_id': ObjectId('666cfd62e6c1d0ec5d80efe3'), 'name': 'Linda', 'career': [{'company': 'Chime', 'title': 'Product Designer', 'description': 'Specializing in creating user-centric financial products that encourage good money habits. Led the design of features that promote savings and responsible spending, helping users achieve their financial goals. With a background in UX design and a passion for financial wellness, ensures Chime’s products are both intuitive and impactful.', 'start_date': 'N/A', 'end_date': 'Current'}], 'elevator_pitch': 'Linda is a product designer with a focus on neobanks, where the product encourages good money habits. Her interests lie in behavioral economics.', 'honors': [], 'interests': ['Behavioral economics'], 'past_projects': [{'title': \"Linda's Past Projects\", 'description': \"A list of Linda's past projects.\"}], 'skills': ['Product design']}\n",
      "inserting 7 documents\n",
      "profile_doc: {'_id': ObjectId('666cfd62e6c1d0ec5d80effb'), 'name': 'Gemina', 'career': [{'company': 'Coinbase', 'title': 'Product Manager', 'description': \"Led the successful launch of Coinbase's cryptocurrency marketplace, focusing on creating a user-friendly platform for buying, selling, and trading cryptocurrencies. The project involved collaborating with cross-functional teams to design an intuitive interface, ensure secure transactions, and integrate various payment methods. The marketplace saw rapid user adoption and high transaction volumes, establishing Coinbase as a leader in the crypto space.\", 'start_date': 'N/A', 'end_date': 'N/A'}], 'elevator_pitch': 'Experienced product manager with a focus on social goods and marketplace projects. Worked on launching Coinbase as a product manager.', 'honors': [], 'interests': ['Social goods'], 'past_projects': [{'title': 'Gemina', 'description': \"A product manager with a background in fintech and degrees in Computer Science Information Systems and an MBA. Specializes in developing user-friendly cryptocurrency solutions. Led the successful launch of Coinbase's cryptocurrency marketplace and developed a comprehensive onboarding and education program for new users of Coinbase. Spearheaded the integration of advanced security features into the Coinbase marketplace.\"}], 'skills': ['Product manager', 'Marketplace']}\n",
      "inserting 7 documents\n",
      "profile_doc: {'_id': ObjectId('666cfd63e6c1d0ec5d80f01f'), 'name': 'Rehka', 'career': [{'company': 'Rehka', 'title': 'Product Manager', 'description': 'Expert in personal recommendation and data-driven decision-making. Led the development of innovative e-commerce solutions at Wayfair, focusing on enhancing customer experience and optimizing the online shopping journey.', 'start_date': '2020-01-01', 'end_date': 'Present'}], 'elevator_pitch': 'I am Rehka, a product manager with expertise in personal recommendation. My interests lie in the field of fashion.', 'honors': [], 'interests': ['Fashion'], 'past_projects': [{'title': 'Rehka', 'description': 'A product manager with expertise in personal recommendation and data-driven decision-making. Specializes in e-commerce solutions and has experience leading projects at Wayfair.'}], 'skills': ['Product management', 'Personal recommendation']}\n",
      "inserting 7 documents\n",
      "profile_doc: {'_id': ObjectId('666cfd63e6c1d0ec5d80f031'), 'name': 'Steven', 'career': [{'company': 'Steven', 'title': 'Data Scientist', 'description': 'Specializing in drug discovery, leveraging advanced analytics and machine learning to accelerate pharmaceutical research. With a strong background in bioinformatics and computational biology, they drive innovation in identifying and developing new therapeutic compounds.', 'start_date': 'Present', 'end_date': 'Present'}], 'elevator_pitch': 'I am a data scientist with expertise in Python, with interests in Healthtech and drug discovery.', 'honors': [], 'interests': ['Healthtech', 'drug discovery'], 'past_projects': [{'title': \"Steven's Profile\", 'description': 'A profile for Steven, a data scientist with an interest in healthtech and drug discovery.'}], 'skills': ['Python']}\n",
      "inserting 7 documents\n"
     ]
    }
   ],
   "source": [
    "\n",
    "\n",
    "def get_career(item):\n",
    "    return dedent(f'''\n",
    "Company Name: {item['company']}\n",
    "Title: {item['title']}\n",
    "Description: {item['description']}\n",
    "Start Date: {item['start_date']}\n",
    "End Date: {item['end_date']}\n",
    "''')\n",
    "\n",
    "def get_project(item):\n",
    "    return dedent(f'''\n",
    "Title: {item['title']}\n",
    "Description: {item['description']}\n",
    "''')\n",
    "\n",
    "\n",
    "def get_profile_doc(profile: dict):\n",
    "\n",
    "    if 'name' not in profile:\n",
    "        return None\n",
    "    if 'past_projects' in profile and len(profile['past_projects']) > 0:\n",
    "        past_projects_str = '\\n'.join(get_project(item) for item in profile['past_projects'])\n",
    "    else:\n",
    "        past_projects_str = \"\"\n",
    "    if 'career' in profile and len(profile['career']) > 0:\n",
    "        career_str = '\\n'.join(get_career(item) for item in profile['career'])\n",
    "    else:\n",
    "        career_str = \"\"\n",
    "\n",
    "    prodile_doc = dedent(f'''\n",
    "\n",
    "    This is the profile of {profile['name']}\n",
    "\n",
    "    # Elevator Pitch of the person\n",
    "    {profile['elevator_pitch']}\n",
    "\n",
    "    # Career History and work experience of the person\n",
    "    {career_str}\n",
    "\n",
    "    # Past Projects and Portfolio\n",
    "    {past_projects_str}\n",
    "\n",
    "    # Skillset they have which will be useful for them\n",
    "    {profile['skills']}\n",
    "\n",
    "    # Their current focus and interests to match with relevant people\n",
    "    {profile['interests']}\n",
    "\n",
    "\n",
    "    # Awards and Honors they have won over their life\n",
    "    {profile['honors']}\n",
    "    ''')\n",
    "    print(f\"profile_doc: {profile}\")\n",
    "    headers_to_split_on = [\n",
    "        (\"#\", \"Header 1\"),\n",
    "        (\"##\", \"Header 2\"),\n",
    "        (\"###\", \"Header 3\"),\n",
    "    ]\n",
    "\n",
    "    markdown_splitter = MarkdownHeaderTextSplitter(headers_to_split_on=headers_to_split_on)\n",
    "    md_header_splits = markdown_splitter.split_text(prodile_doc)\n",
    "    \n",
    "    print(f\"inserting {len(md_header_splits)} documents\")\n",
    "    vector_search = MongoDBAtlasVectorSearch.from_documents(\n",
    "        documents = md_header_splits,\n",
    "        embedding = FireworksEmbeddings(model=\"nomic-ai/nomic-embed-text-v1.5\"),\n",
    "        collection = profiles_collection,\n",
    "        index_name = vector_search_index\n",
    "    )\n",
    "    return vector_search\n",
    "\n",
    "\n",
    "\n",
    "all_profiles = list(profiles_collection.find({}))\n",
    "profile_docs = [get_profile_doc(profile) for profile in all_profiles]\n",
    " "
   ]
  },
  {
   "cell_type": "code",
   "execution_count": null,
   "metadata": {},
   "outputs": [],
   "source": [
    "from langchain_text_splitters import MarkdownHeaderTextSplitter\n",
    "\n",
    "headers_to_split_on = [\n",
    "    (\"#\", \"Header 1\"),\n",
    "    (\"##\", \"Header 2\"),\n",
    "    (\"###\", \"Header 3\"),\n",
    "]\n",
    "\n",
    "markdown_splitter = MarkdownHeaderTextSplitter(headers_to_split_on=headers_to_split_on)\n",
    "md_header_splits = markdown_splitter.split_text(prodile_docs[0])\n",
    "\n"
   ]
  },
  {
   "cell_type": "code",
   "execution_count": null,
   "metadata": {},
   "outputs": [],
   "source": [
    "from langchain_mongodb import MongoDBAtlasVectorSearch\n",
    "from langchain_fireworks import FireworksEmbeddings\n",
    "\n",
    "# Create the vector store\n",
    "vector_search = MongoDBAtlasVectorSearch.from_documents(\n",
    "    documents = docs,\n",
    "    embedding = FireworksEmbeddings(model=\"nomic-ai/nomic-embed-text-v1.5\"),\n",
    "    collection = profiles_collection,\n",
    "    index_name = vector_search_index\n",
    ")"
   ]
  },
  {
   "cell_type": "code",
   "execution_count": null,
   "metadata": {},
   "outputs": [],
   "source": []
  },
  {
   "cell_type": "code",
   "execution_count": null,
   "metadata": {},
   "outputs": [],
   "source": []
  }
 ],
 "metadata": {
  "kernelspec": {
   "display_name": ".venv",
   "language": "python",
   "name": "python3"
  },
  "language_info": {
   "codemirror_mode": {
    "name": "ipython",
    "version": 3
   },
   "file_extension": ".py",
   "mimetype": "text/x-python",
   "name": "python",
   "nbconvert_exporter": "python",
   "pygments_lexer": "ipython3",
   "version": "3.12.3"
  }
 },
 "nbformat": 4,
 "nbformat_minor": 2
}
