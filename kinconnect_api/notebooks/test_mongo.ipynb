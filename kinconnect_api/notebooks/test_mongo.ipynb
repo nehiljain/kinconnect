{
 "cells": [
  {
   "cell_type": "code",
   "execution_count": null,
   "metadata": {},
   "outputs": [],
   "source": [
    "from kinconnect_api.config import MONGO_CONNECTION_STRING\n",
    "import os\n",
    "from pymongo import MongoClient\n",
    "\n",
    "\n",
    "# # Connect to your Atlas cluster\n",
    "# client = MongoClient(MONGO_CONNECTION_STRING)\n",
    "# # Define collection and index name\n",
    "# db_name = \"kinconnect\"\n",
    "# collection_name = \"test\"\n",
    "# atlas_collection = client[db_name][collection_name]\n",
    "# vector_search_index = \"vector_index\""
   ]
  },
  {
   "cell_type": "code",
   "execution_count": null,
   "metadata": {},
   "outputs": [],
   "source": [
    "from pymongo.mongo_client import MongoClient\n",
    "from pymongo.server_api import ServerApi\n",
    "\n",
    "\n",
    "uri = MONGO_CONNECTION_STRING\n",
    "# Create a new client and connect to the server\n",
    "client = MongoClient(uri, server_api=ServerApi('1'))\n",
    "# Send a ping to confirm a successful connection\n",
    "try:\n",
    "    client.admin.command('ping')\n",
    "    print(\"Pinged your deployment. You successfully connected to MongoDB!\")\n",
    "except Exception as e:\n",
    "    print(e)"
   ]
  },
  {
   "cell_type": "code",
   "execution_count": null,
   "metadata": {},
   "outputs": [],
   "source": []
  }
 ],
 "metadata": {
  "kernelspec": {
   "display_name": ".venv",
   "language": "python",
   "name": "python3"
  },
  "language_info": {
   "codemirror_mode": {
    "name": "ipython",
    "version": 3
   },
   "file_extension": ".py",
   "mimetype": "text/x-python",
   "name": "python",
   "nbconvert_exporter": "python",
   "pygments_lexer": "ipython3",
   "version": "3.12.3"
  }
 },
 "nbformat": 4,
 "nbformat_minor": 2
}
