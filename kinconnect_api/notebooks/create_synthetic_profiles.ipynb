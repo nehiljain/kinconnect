{
 "cells": [
  {
   "cell_type": "code",
   "execution_count": 1,
   "metadata": {},
   "outputs": [
    {
     "name": "stderr",
     "output_type": "stream",
     "text": [
      "\u001b[32m2024-06-14 17:48:45.371\u001b[0m | \u001b[1mINFO    \u001b[0m | \u001b[36mkinconnect_api.config\u001b[0m:\u001b[36m<module>\u001b[0m:\u001b[36m15\u001b[0m - \u001b[1mPROJ_ROOT path is: /Users/nehiljain/code/kinconnect/kinconnect_api\u001b[0m\n"
     ]
    },
    {
     "data": {
      "text/html": [
       "<div>\n",
       "<style scoped>\n",
       "    .dataframe tbody tr th:only-of-type {\n",
       "        vertical-align: middle;\n",
       "    }\n",
       "\n",
       "    .dataframe tbody tr th {\n",
       "        vertical-align: top;\n",
       "    }\n",
       "\n",
       "    .dataframe thead th {\n",
       "        text-align: right;\n",
       "    }\n",
       "</style>\n",
       "<table border=\"1\" class=\"dataframe\">\n",
       "  <thead>\n",
       "    <tr style=\"text-align: right;\">\n",
       "      <th></th>\n",
       "      <th>What are your interests?  (ie technical topic, coding language, business problem).</th>\n",
       "      <th>If you have a project idea, describe your idea . Please include whether what sector it is in, and what business problem it is solving and for whom. If you don’t have a project, skip this question.</th>\n",
       "      <th>What is your strongest functional role (such as developer, UX, business, product)? Please share one or two things about your experience in role your experience, for example a success, companies you worked for, how many years experience, a challenging project, etc.</th>\n",
       "      <th>Career path from Linkedin</th>\n",
       "      <th>Are you interested in meeting people with a specific skill set (either one that you lack or one that you already have but want to clone yourself to speed up building). What is the skills sets that you are looking to meet?</th>\n",
       "      <th>Past Projects Portfolio</th>\n",
       "    </tr>\n",
       "  </thead>\n",
       "  <tbody>\n",
       "    <tr>\n",
       "      <th>0</th>\n",
       "      <td>I'm interested in Rags and AI LLMs</td>\n",
       "      <td>NaN</td>\n",
       "      <td>Back end developer, 10 years, build and deploy...</td>\n",
       "      <td>Senior Software EngineerSenior Software Engine...</td>\n",
       "      <td>Product, frontend,</td>\n",
       "      <td>### Project 1: **Netflix Recommendation Engine...</td>\n",
       "    </tr>\n",
       "    <tr>\n",
       "      <th>1</th>\n",
       "      <td>I'm interested in using AI to solve climate ch...</td>\n",
       "      <td>How can AI use to regulate office temperature ...</td>\n",
       "      <td>Product manager. I worked as a product manager...</td>\n",
       "      <td>NaN</td>\n",
       "      <td>Front end developer, Back end developer</td>\n",
       "      <td>### Project 1: **Uber Driver App Redesign**  *...</td>\n",
       "    </tr>\n",
       "    <tr>\n",
       "      <th>2</th>\n",
       "      <td>I'm interested in using AI to make building co...</td>\n",
       "      <td>Using AI to make building construction and dev...</td>\n",
       "      <td>Business Strategy. Business Development. Marke...</td>\n",
       "      <td>NaN</td>\n",
       "      <td>Front end developer, Back end developer</td>\n",
       "      <td>### Project 1: **Market Expansion Strategy**  ...</td>\n",
       "    </tr>\n",
       "    <tr>\n",
       "      <th>3</th>\n",
       "      <td>I'm interested in using AI to solve the loneli...</td>\n",
       "      <td>Match making</td>\n",
       "      <td>Frontend engineer. I worked at  building the U...</td>\n",
       "      <td>NaN</td>\n",
       "      <td>Business strategy, Back end developer, product</td>\n",
       "      <td>### Project 1: **Real-Time Incident Reporting ...</td>\n",
       "    </tr>\n",
       "    <tr>\n",
       "      <th>4</th>\n",
       "      <td>I'm interested in using AI to create more empathy</td>\n",
       "      <td>How can AI be used to make people think more a...</td>\n",
       "      <td>Backend engineer. I have worked on databases f...</td>\n",
       "      <td>Micro Quant Fund · Full-timeMicro Quant Fund ·...</td>\n",
       "      <td>Product managers. Strategic business. Maybe so...</td>\n",
       "      <td>### Project 1: **Slack Data Synchronization Sy...</td>\n",
       "    </tr>\n",
       "  </tbody>\n",
       "</table>\n",
       "</div>"
      ],
      "text/plain": [
       "  What are your interests?  (ie technical topic, coding language, business problem).  \\\n",
       "0                 I'm interested in Rags and AI LLMs                                   \n",
       "1  I'm interested in using AI to solve climate ch...                                   \n",
       "2  I'm interested in using AI to make building co...                                   \n",
       "3  I'm interested in using AI to solve the loneli...                                   \n",
       "4  I'm interested in using AI to create more empathy                                   \n",
       "\n",
       "  If you have a project idea, describe your idea . Please include whether what sector it is in, and what business problem it is solving and for whom. If you don’t have a project, skip this question.  \\\n",
       "0                                                NaN                                                                                                                                                     \n",
       "1  How can AI use to regulate office temperature ...                                                                                                                                                     \n",
       "2  Using AI to make building construction and dev...                                                                                                                                                     \n",
       "3                                       Match making                                                                                                                                                     \n",
       "4  How can AI be used to make people think more a...                                                                                                                                                     \n",
       "\n",
       "  What is your strongest functional role (such as developer, UX, business, product)? Please share one or two things about your experience in role your experience, for example a success, companies you worked for, how many years experience, a challenging project, etc.  \\\n",
       "0  Back end developer, 10 years, build and deploy...                                                                                                                                                                                                                         \n",
       "1  Product manager. I worked as a product manager...                                                                                                                                                                                                                         \n",
       "2  Business Strategy. Business Development. Marke...                                                                                                                                                                                                                         \n",
       "3  Frontend engineer. I worked at  building the U...                                                                                                                                                                                                                         \n",
       "4  Backend engineer. I have worked on databases f...                                                                                                                                                                                                                         \n",
       "\n",
       "                           Career path from Linkedin  \\\n",
       "0  Senior Software EngineerSenior Software Engine...   \n",
       "1                                                NaN   \n",
       "2                                                NaN   \n",
       "3                                                NaN   \n",
       "4  Micro Quant Fund · Full-timeMicro Quant Fund ·...   \n",
       "\n",
       "  Are you interested in meeting people with a specific skill set (either one that you lack or one that you already have but want to clone yourself to speed up building). What is the skills sets that you are looking to meet?  \\\n",
       "0                                Product, frontend,                                                                                                                                                                               \n",
       "1            Front end developer, Back end developer                                                                                                                                                                              \n",
       "2            Front end developer, Back end developer                                                                                                                                                                              \n",
       "3     Business strategy, Back end developer, product                                                                                                                                                                              \n",
       "4  Product managers. Strategic business. Maybe so...                                                                                                                                                                              \n",
       "\n",
       "                             Past Projects Portfolio  \n",
       "0  ### Project 1: **Netflix Recommendation Engine...  \n",
       "1  ### Project 1: **Uber Driver App Redesign**  *...  \n",
       "2  ### Project 1: **Market Expansion Strategy**  ...  \n",
       "3  ### Project 1: **Real-Time Incident Reporting ...  \n",
       "4  ### Project 1: **Slack Data Synchronization Sy...  "
      ]
     },
     "execution_count": 1,
     "metadata": {},
     "output_type": "execute_result"
    }
   ],
   "source": [
    "import pandas as pd\n",
    "from kinconnect_api.config import RAW_DATA_DIR, load_dotenv\n",
    "\n",
    "load_dotenv()\n",
    "# fake_profile_data = pd.read_csv(f\"{RAW_DATA_DIR}/fake_profile_data.csv\")\n",
    "# fake_profile_data.head()\n",
    "fake_profile_data = pd.read_csv(f\"{RAW_DATA_DIR}/fake_profile_data_2.tsv\", sep=\"\\t\")\n",
    "fake_profile_data.head()"
   ]
  },
  {
   "cell_type": "code",
   "execution_count": 2,
   "metadata": {},
   "outputs": [
    {
     "name": "stdout",
     "output_type": "stream",
     "text": [
      "{'question': 'What are your interests?  (ie technical topic, coding language, business problem).', 'answer': \"I'm interested in Rags and AI LLMs\"}\n",
      "{'question': 'If you have a project idea, describe your idea . Please include whether what sector it is in, and what business problem it is solving and for whom. If you don’t have a project, skip this question.', 'answer': nan}\n",
      "{'question': 'What is your strongest functional role (such as developer, UX, business, product)? Please share one or two things about your experience in role your experience, for example a success, companies you worked for, how many years experience, a challenging project, etc.', 'answer': 'Back end developer, 10 years, build and deployed backend databases for Netflix including adding AI functionality to Netflix recommendation engines. '}\n",
      "{'question': 'What are your interests?  (ie technical topic, coding language, business problem).', 'answer': \"I'm interested in using AI to solve climate change\"}\n",
      "{'question': 'If you have a project idea, describe your idea . Please include whether what sector it is in, and what business problem it is solving and for whom. If you don’t have a project, skip this question.', 'answer': 'How can AI use to regulate office temperature more efficiently depending on where people are in a building'}\n",
      "{'question': 'What is your strongest functional role (such as developer, UX, business, product)? Please share one or two things about your experience in role your experience, for example a success, companies you worked for, how many years experience, a challenging project, etc.', 'answer': 'Product manager. I worked as a product manager at Uber, helping to build the mobile app for drivers. '}\n",
      "{'question': 'What are your interests?  (ie technical topic, coding language, business problem).', 'answer': \"I'm interested in using AI to make building construction and development more efficient\"}\n",
      "{'question': 'If you have a project idea, describe your idea . Please include whether what sector it is in, and what business problem it is solving and for whom. If you don’t have a project, skip this question.', 'answer': 'Using AI to make building construction and development more efficient'}\n",
      "{'question': 'What is your strongest functional role (such as developer, UX, business, product)? Please share one or two things about your experience in role your experience, for example a success, companies you worked for, how many years experience, a challenging project, etc.', 'answer': 'Business Strategy. Business Development. Marketing. I have been running a family-owned real estate development company called StatedBuilds for 20 years. '}\n",
      "{'question': 'What are your interests?  (ie technical topic, coding language, business problem).', 'answer': \"I'm interested in using AI to solve the loneliness problem\"}\n",
      "{'question': 'If you have a project idea, describe your idea . Please include whether what sector it is in, and what business problem it is solving and for whom. If you don’t have a project, skip this question.', 'answer': 'Match making'}\n",
      "{'question': 'What is your strongest functional role (such as developer, UX, business, product)? Please share one or two things about your experience in role your experience, for example a success, companies you worked for, how many years experience, a challenging project, etc.', 'answer': 'Frontend engineer. I worked at  building the UX at Citizen which tracks police incidents in your neighborhood.'}\n",
      "{'question': 'What are your interests?  (ie technical topic, coding language, business problem).', 'answer': \"I'm interested in using AI to create more empathy\"}\n",
      "{'question': 'If you have a project idea, describe your idea . Please include whether what sector it is in, and what business problem it is solving and for whom. If you don’t have a project, skip this question.', 'answer': \"How can AI be used to make people think more about other people's challenges and circumstances\"}\n",
      "{'question': 'What is your strongest functional role (such as developer, UX, business, product)? Please share one or two things about your experience in role your experience, for example a success, companies you worked for, how many years experience, a challenging project, etc.', 'answer': 'Backend engineer. I have worked on databases for various mobile app including Slack and Meta mobile apps'}\n",
      "{'question': 'What are your interests?  (ie technical topic, coding language, business problem).', 'answer': \"I'm interested in using AI to create an AI tutor that makes student better at critical thinking, problem solving and thinking about philosophical questions\"}\n",
      "{'question': 'If you have a project idea, describe your idea . Please include whether what sector it is in, and what business problem it is solving and for whom. If you don’t have a project, skip this question.', 'answer': 'How can AI bot help students learn to ask questions and think more critically and problem solve better'}\n",
      "{'question': 'What is your strongest functional role (such as developer, UX, business, product)? Please share one or two things about your experience in role your experience, for example a success, companies you worked for, how many years experience, a challenging project, etc.', 'answer': 'Product manager. My last hackathon I built a robot that used AI to bake a cake. '}\n",
      "{'question': 'What are your interests?  (ie technical topic, coding language, business problem).', 'answer': 'AI recommendation'}\n",
      "{'question': 'If you have a project idea, describe your idea . Please include whether what sector it is in, and what business problem it is solving and for whom. If you don’t have a project, skip this question.', 'answer': 'Marketplace'}\n",
      "{'question': 'What is your strongest functional role (such as developer, UX, business, product)? Please share one or two things about your experience in role your experience, for example a success, companies you worked for, how many years experience, a challenging project, etc.', 'answer': 'Data engineer.  I worked at Uber for 5 years.'}\n",
      "{'question': 'What are your interests?  (ie technical topic, coding language, business problem).', 'answer': 'Behavioral economics'}\n",
      "{'question': 'If you have a project idea, describe your idea . Please include whether what sector it is in, and what business problem it is solving and for whom. If you don’t have a project, skip this question.', 'answer': 'AI agent on building good habits'}\n",
      "{'question': 'What is your strongest functional role (such as developer, UX, business, product)? Please share one or two things about your experience in role your experience, for example a success, companies you worked for, how many years experience, a challenging project, etc.', 'answer': 'Designer.  I am a product designer for neobanks where the product encouraged good money habits.'}\n",
      "{'question': 'What are your interests?  (ie technical topic, coding language, business problem).', 'answer': 'Social goods'}\n",
      "{'question': 'If you have a project idea, describe your idea . Please include whether what sector it is in, and what business problem it is solving and for whom. If you don’t have a project, skip this question.', 'answer': 'Marketplace'}\n",
      "{'question': 'What is your strongest functional role (such as developer, UX, business, product)? Please share one or two things about your experience in role your experience, for example a success, companies you worked for, how many years experience, a challenging project, etc.', 'answer': 'Product manager. My biggest success was working as  as a product manager for the launch of Coinbase '}\n",
      "{'question': 'What are your interests?  (ie technical topic, coding language, business problem).', 'answer': 'Fashion '}\n",
      "{'question': 'If you have a project idea, describe your idea . Please include whether what sector it is in, and what business problem it is solving and for whom. If you don’t have a project, skip this question.', 'answer': 'E-commerce'}\n",
      "{'question': 'What is your strongest functional role (such as developer, UX, business, product)? Please share one or two things about your experience in role your experience, for example a success, companies you worked for, how many years experience, a challenging project, etc.', 'answer': 'Product manager.  I am an expert in personal recommendation.'}\n",
      "{'question': 'What are your interests?  (ie technical topic, coding language, business problem).', 'answer': 'Healthtech, drug discovery '}\n",
      "{'question': 'If you have a project idea, describe your idea . Please include whether what sector it is in, and what business problem it is solving and for whom. If you don’t have a project, skip this question.', 'answer': 'drug discovery'}\n",
      "{'question': 'What is your strongest functional role (such as developer, UX, business, product)? Please share one or two things about your experience in role your experience, for example a success, companies you worked for, how many years experience, a challenging project, etc.', 'answer': 'Data scientist.  I know Python.'}\n"
     ]
    },
    {
     "data": {
      "text/plain": [
       "11"
      ]
     },
     "execution_count": 2,
     "metadata": {},
     "output_type": "execute_result"
    }
   ],
   "source": [
    "profile_list = []\n",
    "\n",
    "for index, row in fake_profile_data.iterrows():\n",
    "    profile_dict = {'questions_and_answers': []}\n",
    "    for column in fake_profile_data.columns:\n",
    "        qa_pair = {\"question\": column, \"answer\": row[column]}\n",
    "        profile_dict['questions_and_answers'].append(qa_pair)\n",
    "    profile_list.append(profile_dict)\n",
    "\n",
    "profile_details_list = []\n",
    "for index, row in fake_profile_data.iterrows():\n",
    "    profile_dict = {'questions_and_answers': []}\n",
    "    counter = 0\n",
    "    for column in fake_profile_data.columns:\n",
    "        qa_pair = {\"question\": column, \"answer\": row[column]}\n",
    "        profile_dict['questions_and_answers'].append(qa_pair)\n",
    "        print(qa_pair)\n",
    "        if counter >= 2:\n",
    "            break\n",
    "        counter += 1\n",
    "    profile_details_list.append(profile_dict)\n",
    "\n",
    "# Convert each profile's questions and answers into a formatted string and store in a list\n",
    "formatted_profiles = [f'\\n\\n'.join(f\"## {pair['question']}: \\n {pair['answer']}\" for pair in profile['questions_and_answers']) for profile in profile_list]\n",
    "formatted_profile_details = [f'\\n\\n'.join(f\"## {pair['question']}: \\n {pair['answer']}\" for pair in profile['questions_and_answers']) for profile in profile_details_list]\n",
    "len(formatted_profiles)\n"
   ]
  },
  {
   "cell_type": "code",
   "execution_count": 3,
   "metadata": {},
   "outputs": [
    {
     "name": "stdout",
     "output_type": "stream",
     "text": [
      "## What are your interests?  (ie technical topic, coding language, business problem).: \n",
      " I'm interested in Rags and AI LLMs\n",
      "\n",
      "## If you have a project idea, describe your idea . Please include whether what sector it is in, and what business problem it is solving and for whom. If you don’t have a project, skip this question.: \n",
      " nan\n",
      "\n",
      "## What is your strongest functional role (such as developer, UX, business, product)? Please share one or two things about your experience in role your experience, for example a success, companies you worked for, how many years experience, a challenging project, etc.: \n",
      " Back end developer, 10 years, build and deployed backend databases for Netflix including adding AI functionality to Netflix recommendation engines. \n"
     ]
    }
   ],
   "source": [
    "print(formatted_profile_details[0])"
   ]
  },
  {
   "cell_type": "code",
   "execution_count": 4,
   "metadata": {},
   "outputs": [
    {
     "name": "stdout",
     "output_type": "stream",
     "text": [
      "## What are your interests?  (ie technical topic, coding language, business problem).: \n",
      " I'm interested in using AI to solve climate change\n",
      "\n",
      "## If you have a project idea, describe your idea . Please include whether what sector it is in, and what business problem it is solving and for whom. If you don’t have a project, skip this question.: \n",
      " How can AI use to regulate office temperature more efficiently depending on where people are in a building\n",
      "\n",
      "## What is your strongest functional role (such as developer, UX, business, product)? Please share one or two things about your experience in role your experience, for example a success, companies you worked for, how many years experience, a challenging project, etc.: \n",
      " Product manager. I worked as a product manager at Uber, helping to build the mobile app for drivers. \n",
      "\n",
      "## Career path from Linkedin: \n",
      " nan\n",
      "\n",
      "## Are you interested in meeting people with a specific skill set (either one that you lack or one that you already have but want to clone yourself to speed up building). What is the skills sets that you are looking to meet?: \n",
      " Front end developer, Back end developer\n",
      "\n",
      "## Past Projects Portfolio: \n",
      " ### Project 1: **Uber Driver App Redesign**  **Title:** Uber Driver App Comprehensive Redesign  **Description:** Led the project to redesign the Uber Driver app, focusing on improving user experience and functionality for drivers. The redesign included a complete overhaul of the app's interface, streamlining the onboarding process, optimizing navigation, and integrating real-time feedback mechanisms. The new design aimed to enhance driver satisfaction and efficiency, resulting in increased driver retention and better service quality.  **Skills:** - Product Management - User Experience (UX) Design - User Interface (UI) Design - Agile Methodologies - Stakeholder Management - Data Analysis - Mobile App Development - Project Management - User Research  ### Project 2: **Driver Earnings Insights Tool**  **Title:** Driver Earnings Insights and Analytics Tool  **Description:** Spearheaded the development of an earnings insights tool within the Uber Driver app. This tool provided drivers with detailed analytics on their earnings, including trip breakdowns, peak earning times, and performance metrics. By offering transparent and actionable insights, the tool empowered drivers to optimize their driving schedules and maximize their earnings potential.  **Skills:** - Product Management - Data Analysis - Business Intelligence - User Research - Agile Methodologies - Mobile App Development - Stakeholder Management - Project Management  ### Project 3: **In-App Driver Support Feature**  **Title:** In-App Driver Support and Assistance Feature  **Description:** Managed the project to integrate a robust in-app support system for Uber drivers. This feature included real-time chat support, a comprehensive FAQ section, and automated troubleshooting for common issues. The support system aimed to provide immediate assistance to drivers, reduce downtime, and enhance overall driver satisfaction.  **Skills:** - Product Management - Customer Support Systems - User Experience (UX) Design - Agile Methodologies - Mobile App Development - Stakeholder Management - Project Management - Data Analysis\n"
     ]
    }
   ],
   "source": [
    "print(formatted_profiles[1])"
   ]
  },
  {
   "cell_type": "code",
   "execution_count": 5,
   "metadata": {},
   "outputs": [],
   "source": [
    "from pymongo import MongoClient\n",
    "from pydantic import BaseModel, Field\n",
    "from typing import List, Dict\n",
    "\n",
    "class CareerEntry(BaseModel):\n",
    "    company: str = Field(..., title=\"Company they worked at\")\n",
    "    title: str = Field(..., title=\"Title of the role they held\")\n",
    "    description: str = Field(..., title=\"Description of the role they held\")\n",
    "    start_date: str = Field(..., title=\"Start date of the role\")\n",
    "    end_date: str = Field(..., title=\"End date of the role\")\n",
    "\n",
    "\n",
    "class ProjectEntry(BaseModel):\n",
    "    title: str = Field(..., title=\"Title of the project\")\n",
    "    description: str = Field(..., title=\"Description of the project\")\n",
    "\n",
    "\n"
   ]
  },
  {
   "cell_type": "code",
   "execution_count": 6,
   "metadata": {},
   "outputs": [],
   "source": [
    "\n",
    "from langchain_core.prompts import ChatPromptTemplate\n",
    "from langchain_openai import ChatOpenAI\n",
    "from langchain.chat_models.base import BaseChatModel\n",
    "from textwrap import dedent\n",
    "import logging\n",
    "from pathlib import Path\n",
    "import pandas as pd\n",
    "from langchain_core.pydantic_v1 import BaseModel, Field\n",
    "from typing import List, Dict, Callable, Union\n",
    "import os\n",
    "from tqdm import tqdm\n",
    "from datetime import datetime\n",
    "# Setup logging as per the new configuration"
   ]
  },
  {
   "cell_type": "code",
   "execution_count": 7,
   "metadata": {},
   "outputs": [],
   "source": [
    "career_extraction_prompt_str = dedent(\"\"\"\n",
    "You are a data generation app which creates profiles for participants at a hackathon. \n",
    "Given their form submission which asks them a few questions. Create a profile. \n",
    "Find all the relevant details about their career.\n",
    "\n",
    "<form_submission>                                   \n",
    "{submission}\n",
    "</form_submission>\n",
    "\"\"\")"
   ]
  },
  {
   "cell_type": "code",
   "execution_count": 8,
   "metadata": {},
   "outputs": [],
   "source": [
    "from langchain_fireworks import ChatFireworks\n",
    "load_dotenv()\n",
    "\n",
    "def get_career(profile):\n",
    "    prompt_str = dedent(\"\"\"\n",
    "You are a data generation app which creates profiles for participants at a hackathon. \n",
    "Given their form submission which asks them a few questions. Create a profile. \n",
    "Find all the relevant details about their career.\n",
    "\n",
    "<form_submission>                                   \n",
    "{submission}\n",
    "</form_submission>\n",
    "\"\"\")\n",
    "    mixtral_llm = ChatFireworks(\n",
    "        model=\"accounts/fireworks/models/mistral-7b-instruct-v3\")\n",
    "\n",
    "    career_llm = mixtral_llm.with_structured_output(CareerEntry)\n",
    "\n",
    "    prompt = ChatPromptTemplate.from_template(prompt_str)\n",
    "    chain = prompt | career_llm\n",
    "    return chain.invoke({\"submission\": profile})\n",
    "\n",
    "\n",
    "career_profiles = [get_career(unstructured_profile) for unstructured_profile in formatted_profiles]\n"
   ]
  },
  {
   "cell_type": "code",
   "execution_count": 9,
   "metadata": {},
   "outputs": [
    {
     "data": {
      "text/plain": [
       "{'company': 'Netflix',\n",
       " 'title': 'Senior Software Engineer',\n",
       " 'description': 'Led the development and deployment of an advanced recommendation engine for Netflix. This project aimed to enhance the accuracy and personalization of content recommendations for users by integrating machine learning algorithms. The system utilized user behavior data, viewing history, and ratings to predict and suggest content that matched user preferences. The project included a real-time processing pipeline to ensure recommendations were updated dynamically as user interactions occurred.',\n",
       " 'start_date': 'Jun 2018',\n",
       " 'end_date': 'Present'}"
      ]
     },
     "execution_count": 9,
     "metadata": {},
     "output_type": "execute_result"
    }
   ],
   "source": [
    "career_profiles[0]\n"
   ]
  },
  {
   "cell_type": "code",
   "execution_count": 10,
   "metadata": {},
   "outputs": [],
   "source": [
    "from langchain_fireworks import ChatFireworks\n",
    "load_dotenv()\n",
    "\n",
    "def get_project(profile):\n",
    "    prompt_str = dedent(\"\"\"\n",
    "You are a data generation app which creates profiles for participants at a hackathon. \n",
    "Given their form submission which asks them a few questions. Create a profile. \n",
    "Find all the relevant details about their past projects and portfolio.\n",
    "\n",
    "<form_submission>                                   \n",
    "{submission}\n",
    "</form_submission>\n",
    "\"\"\")\n",
    "    mixtral_llm = ChatFireworks(\n",
    "        model=\"accounts/fireworks/models/mistral-7b-instruct-v3\")\n",
    "\n",
    "    career_llm = mixtral_llm.with_structured_output(ProjectEntry)\n",
    "\n",
    "    prompt = ChatPromptTemplate.from_template(prompt_str)\n",
    "    chain = prompt | career_llm\n",
    "    return chain.invoke({\"submission\": profile})\n",
    "\n",
    "\n",
    "project_profiles = [get_project(unstructured_profile) for unstructured_profile in formatted_profiles]\n"
   ]
  },
  {
   "cell_type": "code",
   "execution_count": 11,
   "metadata": {},
   "outputs": [],
   "source": [
    "from langchain_core.prompts import ChatPromptTemplate\n",
    "from langchain_openai import ChatOpenAI\n",
    "from textwrap import dedent\n",
    "from langchain_core.pydantic_v1 import BaseModel, Field\n",
    "\n",
    "load_dotenv()\n",
    "\n",
    "def get_profile_details(profile):\n",
    "    prompt_str = dedent(\"\"\"\n",
    "You are a data generation app which creates profiles for participants at a hackathon. \n",
    "Given their form submission which asks them a few questions. Create a profile. \n",
    "Find all the relevant details about their profile. Find their skills, accolades, honors and current interests.\n",
    "Generate a name for the person. Make the name diverse and real representation of people working in the silicon valley with the relevant description of their form submission.\n",
    "                        \n",
    "<form_submission>                                   \n",
    "{submission}\n",
    "</form_submission>\n",
    "\"\"\")\n",
    "    # Define a Pydantic model for the profile\n",
    "    class ProfileDetails(BaseModel):\n",
    "        honors: List[str] = Field(None, title=\"Honors, Awards and recognition they have received in life\")\n",
    "        interests: List[str] = Field(..., title=\"Interests and current focus of theirs the work or the event\")\n",
    "        skills: List[str] = Field(..., title=\"Skills they have\")\n",
    "        name: str = Field(..., title=\"Name of the person\")\n",
    "        elevator_pitch: str = Field(..., title=\"Elevator pitch for the person for the event\")\n",
    "        \n",
    "    gpt35_llm =  ChatOpenAI(model=\"gpt-3.5-turbo\")\n",
    "\n",
    "    career_llm = gpt35_llm.with_structured_output(ProfileDetails)\n",
    "\n",
    "    prompt = ChatPromptTemplate.from_template(prompt_str)\n",
    "    chain = prompt | career_llm\n",
    "    return chain.invoke({\"submission\": profile})\n",
    "\n",
    "\n",
    "profile_details = [get_profile_details(unstructured_profile) for unstructured_profile in formatted_profile_details]\n"
   ]
  },
  {
   "cell_type": "code",
   "execution_count": 12,
   "metadata": {},
   "outputs": [
    {
     "name": "stdout",
     "output_type": "stream",
     "text": [
      "{'company': 'Netflix', 'title': 'Senior Software Engineer', 'description': 'Led the development and deployment of an advanced recommendation engine for Netflix. This project aimed to enhance the accuracy and personalization of content recommendations for users by integrating machine learning algorithms. The system utilized user behavior data, viewing history, and ratings to predict and suggest content that matched user preferences. The project included a real-time processing pipeline to ensure recommendations were updated dynamically as user interactions occurred.', 'start_date': 'Jun 2018', 'end_date': 'Present'}\n",
      "{'title': 'Netflix Recommendation Engine Enhancement', 'description': 'Led the development and deployment of an advanced recommendation engine for Netflix. This project aimed to enhance the accuracy and personalization of content recommendations for users by integrating machine learning algorithms. The system utilized user behavior data, viewing history, and ratings to predict and suggest content that matched user preferences. The project included a real-time processing pipeline to ensure recommendations were updated dynamically as user interactions occurred. Skills: - Python - Machine Learning - TensorFlow/PyTorch - Apache Spark - AWS (S3, EC2, Lambda) - SQL - Big Data (Hadoop) - Data Engineering - API Development - Docker/Kubernetes'}\n",
      "honors=['nan'] interests=['Rags', 'AI LLMs'] skills=['Back end development', 'Database management', 'AI integration'] name='Sara Patel' elevator_pitch='Experienced back end developer with 10 years of experience. Built and deployed backend databases for Netflix, including adding AI functionality to recommendation engines. Interested in Rags and AI LLMs.'\n"
     ]
    }
   ],
   "source": [
    "print(career_profiles[0])\n",
    "print(project_profiles[0])\n",
    "print(profile_details[0])"
   ]
  },
  {
   "cell_type": "code",
   "execution_count": 13,
   "metadata": {},
   "outputs": [],
   "source": [
    "from kinconnect_api.config import MONGO_CONNECTION_STRING\n",
    "# Connect to MongoDB\n",
    "client = MongoClient(MONGO_CONNECTION_STRING)\n",
    "db = client['kinconnect']\n",
    "profiles_collection = db['profiles']\n",
    "\n",
    "class CareerEntry(BaseModel):\n",
    "    company: str\n",
    "    title: str\n",
    "    description: str\n",
    "    start_date: str\n",
    "    end_date: str\n",
    "\n",
    "class ProjectEntry(BaseModel):\n",
    "    title: str\n",
    "    description: str\n",
    "\n",
    "class ProfileModel(BaseModel):\n",
    "    name: str = Field(..., title=\"Name of the person\")\n",
    "    honors: list[str] = Field(None, title=\"Honors, Awards and recognition they have recieved in life\")\n",
    "    interests: list[str] = Field(..., title=\"Interests and current focus of theirs the work or the event\")\n",
    "    skills: list[str] = Field(..., title=\"Skills they have\")\n",
    "    career: List[CareerEntry] = Field(..., title=\"Career history of the person\")\n",
    "    past_projects: List[ProjectEntry] = Field(..., title=\"Projects they have worked on\")\n",
    "    elevator_pitch: str = Field(..., title=\"Elevator pitch for the person for the event\")\n",
    "\n",
    "    class Config:\n",
    "        arbitrary_types_allowed = True\n",
    "zipped_profiles = zip(profile_details, career_profiles, project_profiles)\n",
    "\n",
    "\n",
    "fake_profiles = [\n",
    "    ProfileModel(\n",
    "        name=profile_details.name,\n",
    "        honors=profile_details.honors,\n",
    "        interests=profile_details.interests,\n",
    "        skills=profile_details.skills,\n",
    "        career=[\n",
    "            CareerEntry(\n",
    "                company=career_profile['company'],\n",
    "                title=career_profile['title'],\n",
    "                description=career_profile['description'],\n",
    "                start_date=career_profile['start_date'],\n",
    "                end_date=career_profile['end_date']\n",
    "            )\n",
    "        ],\n",
    "        past_projects=[\n",
    "            ProjectEntry(\n",
    "                title=project_profile['title'],\n",
    "                description=project_profile['description']\n",
    "            )\n",
    "        ],\n",
    "        elevator_pitch=profile_details.elevator_pitch\n",
    "    )\n",
    "    for profile_details, career_profile, project_profile in zipped_profiles\n",
    "        \n",
    "]\n",
    "\n",
    "# Upsert fake profiles into MongoDB based on the name of the profile\n",
    "for profile in fake_profiles:\n",
    "    profiles_collection.update_one(\n",
    "        {\"name\": profile.name},\n",
    "        {\"$set\": profile.dict()},\n",
    "        upsert=True\n",
    "    )\n"
   ]
  },
  {
   "cell_type": "code",
   "execution_count": 14,
   "metadata": {},
   "outputs": [
    {
     "data": {
      "text/plain": [
       "ProfileModel(name='Sara Patel', honors=[], interests=['AI', 'critical thinking', 'problem solving', 'philosophical questions'], skills=['product management', 'AI', 'robotics', 'baking'], career=[CareerEntry(company='Google', title='Senior Software Engineer', description='Worked as a Senior Software Engineer at Google from January 2016 to present. During this time, I contributed to various projects and gained valuable experience in software development.', start_date='January 2016', end_date='Present')], past_projects=[ProjectEntry(title='AI-Powered Educational Bot for Critical Thinking', description='Developed an AI-powered bot designed to assist students in learning how to ask questions, think critically, and solve problems more effectively. The bot interacts with students through natural language processing (NLP) to guide them in exploring various topics, prompting them with questions that encourage deeper understanding and critical analysis. The project aimed to create a virtual tutor that adapts to individual learning styles, providing personalized feedback and fostering a more inquisitive mindset.')], elevator_pitch='Product manager with a passion for using AI to create innovative solutions. Interested in AI applications for education and fostering critical thinking skills in students.')"
      ]
     },
     "execution_count": 14,
     "metadata": {},
     "output_type": "execute_result"
    }
   ],
   "source": [
    "fake_profiles[5]"
   ]
  },
  {
   "cell_type": "code",
   "execution_count": null,
   "metadata": {},
   "outputs": [],
   "source": []
  }
 ],
 "metadata": {
  "kernelspec": {
   "display_name": ".venv",
   "language": "python",
   "name": "python3"
  },
  "language_info": {
   "codemirror_mode": {
    "name": "ipython",
    "version": 3
   },
   "file_extension": ".py",
   "mimetype": "text/x-python",
   "name": "python",
   "nbconvert_exporter": "python",
   "pygments_lexer": "ipython3",
   "version": "3.12.3"
  }
 },
 "nbformat": 4,
 "nbformat_minor": 2
}
