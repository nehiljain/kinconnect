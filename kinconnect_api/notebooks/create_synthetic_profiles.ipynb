{
 "cells": [
  {
   "cell_type": "code",
   "execution_count": 3,
   "metadata": {},
   "outputs": [
    {
     "data": {
      "text/html": [
       "<div>\n",
       "<style scoped>\n",
       "    .dataframe tbody tr th:only-of-type {\n",
       "        vertical-align: middle;\n",
       "    }\n",
       "\n",
       "    .dataframe tbody tr th {\n",
       "        vertical-align: top;\n",
       "    }\n",
       "\n",
       "    .dataframe thead th {\n",
       "        text-align: right;\n",
       "    }\n",
       "</style>\n",
       "<table border=\"1\" class=\"dataframe\">\n",
       "  <thead>\n",
       "    <tr style=\"text-align: right;\">\n",
       "      <th></th>\n",
       "      <th>What are your interests?  (ie technical topic, coding language, business problem).</th>\n",
       "      <th>If you have a project idea, describe your idea . Please include whether what sector it is in, and what business problem it is solving and for whom. If you don’t have a project, skip this question.</th>\n",
       "      <th>What is your strongest functional role (such as developer, UX, business, product)? Please share one or two things about your experience in role your experience, for example a success, how many years experience, a challenging project, etc.</th>\n",
       "      <th>Are you interested in meeting people with a specific skill set (either one that you lack or one that you already have but want to clone yourself to speed up building). What is the skills sets that you are looking to meet?</th>\n",
       "    </tr>\n",
       "  </thead>\n",
       "  <tbody>\n",
       "    <tr>\n",
       "      <th>0</th>\n",
       "      <td>I'm interested in Rags and AI LLMs</td>\n",
       "      <td>NaN</td>\n",
       "      <td>Back end developer, 10 years, build and deploy...</td>\n",
       "      <td>Product, frontend,</td>\n",
       "    </tr>\n",
       "    <tr>\n",
       "      <th>1</th>\n",
       "      <td>I'm interested in using AI to solve climate ch...</td>\n",
       "      <td>How can AI use to regulate office temperature ...</td>\n",
       "      <td>Product manager. I worked as a product manager...</td>\n",
       "      <td>Front end developer, Back end developer</td>\n",
       "    </tr>\n",
       "    <tr>\n",
       "      <th>2</th>\n",
       "      <td>I'm interested in using AI to make building co...</td>\n",
       "      <td>Using AI to make building construction and dev...</td>\n",
       "      <td>Business Strategy. Business Development. Marke...</td>\n",
       "      <td>Front end developer, Back end developer</td>\n",
       "    </tr>\n",
       "    <tr>\n",
       "      <th>3</th>\n",
       "      <td>I'm interested in using AI to solve the loneli...</td>\n",
       "      <td>Match making</td>\n",
       "      <td>Frontend engineer. I worked at  building their...</td>\n",
       "      <td>Business strategy, Back end developer, product</td>\n",
       "    </tr>\n",
       "    <tr>\n",
       "      <th>4</th>\n",
       "      <td>I'm interested in using AI to create more empathy</td>\n",
       "      <td>How can AI be used to make people think more a...</td>\n",
       "      <td>Backend engineer. I have worked on databases f...</td>\n",
       "      <td>Product managers. Strategic business. Maybe so...</td>\n",
       "    </tr>\n",
       "  </tbody>\n",
       "</table>\n",
       "</div>"
      ],
      "text/plain": [
       "  What are your interests?  (ie technical topic, coding language, business problem).  \\\n",
       "0                 I'm interested in Rags and AI LLMs                                   \n",
       "1  I'm interested in using AI to solve climate ch...                                   \n",
       "2  I'm interested in using AI to make building co...                                   \n",
       "3  I'm interested in using AI to solve the loneli...                                   \n",
       "4  I'm interested in using AI to create more empathy                                   \n",
       "\n",
       "  If you have a project idea, describe your idea . Please include whether what sector it is in, and what business problem it is solving and for whom. If you don’t have a project, skip this question.  \\\n",
       "0                                                NaN                                                                                                                                                     \n",
       "1  How can AI use to regulate office temperature ...                                                                                                                                                     \n",
       "2  Using AI to make building construction and dev...                                                                                                                                                     \n",
       "3                                       Match making                                                                                                                                                     \n",
       "4  How can AI be used to make people think more a...                                                                                                                                                     \n",
       "\n",
       "  What is your strongest functional role (such as developer, UX, business, product)? Please share one or two things about your experience in role your experience, for example a success, how many years experience, a challenging project, etc.  \\\n",
       "0  Back end developer, 10 years, build and deploy...                                                                                                                                                                                               \n",
       "1  Product manager. I worked as a product manager...                                                                                                                                                                                               \n",
       "2  Business Strategy. Business Development. Marke...                                                                                                                                                                                               \n",
       "3  Frontend engineer. I worked at  building their...                                                                                                                                                                                               \n",
       "4  Backend engineer. I have worked on databases f...                                                                                                                                                                                               \n",
       "\n",
       "  Are you interested in meeting people with a specific skill set (either one that you lack or one that you already have but want to clone yourself to speed up building). What is the skills sets that you are looking to meet?  \n",
       "0                                Product, frontend,                                                                                                                                                                              \n",
       "1            Front end developer, Back end developer                                                                                                                                                                             \n",
       "2            Front end developer, Back end developer                                                                                                                                                                             \n",
       "3     Business strategy, Back end developer, product                                                                                                                                                                             \n",
       "4  Product managers. Strategic business. Maybe so...                                                                                                                                                                             "
      ]
     },
     "execution_count": 3,
     "metadata": {},
     "output_type": "execute_result"
    }
   ],
   "source": [
    "import pandas as pd\n",
    "from kinconnect_api.config import RAW_DATA_DIR, load_dotenv\n",
    "\n",
    "load_dotenv()\n",
    "fake_profile_data = pd.read_csv(f\"{RAW_DATA_DIR}/fake_profile_data.csv\")\n",
    "fake_profile_data.head()"
   ]
  },
  {
   "cell_type": "code",
   "execution_count": 18,
   "metadata": {},
   "outputs": [
    {
     "data": {
      "text/plain": [
       "12"
      ]
     },
     "execution_count": 18,
     "metadata": {},
     "output_type": "execute_result"
    }
   ],
   "source": [
    "profile_list = []\n",
    "\n",
    "for index, row in fake_profile_data.iterrows():\n",
    "    profile_dict = {'questions_and_answers': []}\n",
    "    for column in fake_profile_data.columns:\n",
    "        qa_pair = {\"question\": column, \"answer\": row[column]}\n",
    "        profile_dict['questions_and_answers'].append(qa_pair)\n",
    "    profile_list.append(profile_dict)\n",
    "\n",
    "# Convert each profile's questions and answers into a formatted string and store in a list\n",
    "formatted_profiles = [f'\\n\\n'.join(f\"## {pair['question']}: \\n {pair['answer']}\" for pair in profile['questions_and_answers']) for profile in profile_list]\n",
    "\n",
    "len(formatted_profiles)\n"
   ]
  },
  {
   "cell_type": "code",
   "execution_count": 20,
   "metadata": {},
   "outputs": [
    {
     "name": "stdout",
     "output_type": "stream",
     "text": [
      "## What are your interests?  (ie technical topic, coding language, business problem).: \n",
      " I'm interested in using AI to solve climate change\n",
      "\n",
      "## If you have a project idea, describe your idea . Please include whether what sector it is in, and what business problem it is solving and for whom. If you don’t have a project, skip this question.: \n",
      " How can AI use to regulate office temperature more efficiently depending on where people are in a building\n",
      "\n",
      "## What is your strongest functional role (such as developer, UX, business, product)? Please share one or two things about your experience in role your experience, for example a success, how many years experience, a challenging project, etc.: \n",
      " Product manager. I worked as a product manager at Uber, helping to build the mobile app for drivers. \n",
      "\n",
      "## Are you interested in meeting people with a specific skill set (either one that you lack or one that you already have but want to clone yourself to speed up building). What is the skills sets that you are looking to meet?: \n",
      " Front end developer, Back end developer\n"
     ]
    }
   ],
   "source": [
    "print(formatted_profiles[1])"
   ]
  },
  {
   "cell_type": "code",
   "execution_count": 29,
   "metadata": {},
   "outputs": [],
   "source": [
    "from pymongo import MongoClient\n",
    "from pydantic import BaseModel, Field\n",
    "from typing import List, Dict\n",
    "\n",
    "class CareerEntry(BaseModel):\n",
    "    company: str = Field(..., title=\"Company they worked at\")\n",
    "    title: str = Field(..., title=\"Title of the role they held\")\n",
    "    description: str = Field(..., title=\"Description of the role they held\")\n",
    "    start_date: str = Field(..., title=\"Start date of the role\")\n",
    "    end_date: str = Field(..., title=\"End date of the role\")\n",
    "\n",
    "\n",
    "class ProjectEntry(BaseModel):\n",
    "    title: str = Field(..., title=\"Title of the project\")\n",
    "    description: str = Field(..., title=\"Description of the project\")\n",
    "\n",
    "\n",
    "# Define a Pydantic model for the profile\n",
    "class ProfileModel(BaseModel):\n",
    "    name: str = Field(..., title=\"Name of the person\")\n",
    "    honors: str = Field(None, title=\"Honors, Awards and recognition they have recieved in life\")\n",
    "    interests: str = Field(..., title=\"Interests and current focus of theirs the work or the event\")\n",
    "    skills: str = Field(..., title=\"Skills they have\")\n",
    "    career: List[CareerEntry] = Field(..., title=\"Career history of the person\")\n",
    "    past_projects: List[ProjectEntry] = Field(..., title=\"Projects they have worked on\")\n",
    "    elevator_pitch: str = Field(..., title=\"Elevator pitch for the person fpr the event\")\n",
    "    \n",
    "# # Connect to MongoDB\n",
    "# client = MongoClient(MONGO_CONNECTION_STRING)\n",
    "# db = client['profile_database']\n",
    "# profiles_collection = db['profiles']\n",
    "\n",
    "# # Create fake profiles\n",
    "# fake_profiles = [\n",
    "#     ProfileModel(\n",
    "#         interests=\"AI and Machine Learning\",\n",
    "#         project_idea=\"Developing an AI to optimize energy usage in smart homes.\",\n",
    "#         functional_role=\"Data Scientist, 5 years experience in energy sector.\",\n",
    "#         skills_looking_for=\"IoT development skills\"\n",
    "#     ),\n",
    "#     ProfileModel(\n",
    "#         interests=\"Blockchain and Cryptocurrency\",\n",
    "#         project_idea=\"Creating a decentralized voting system.\",\n",
    "#         functional_role=\"Blockchain Developer, 3 years experience with Solidity.\",\n",
    "#         skills_looking_for=\"Frontend development skills\"\n",
    "#     ),\n",
    "#     ProfileModel(\n",
    "#         interests=\"Healthcare and Biotechnology\",\n",
    "#         project_idea=\"Using AI to predict disease outbreaks.\",\n",
    "#         functional_role=\"Bioinformatician, 7 years experience in epidemiology.\",\n",
    "#         skills_looking_for=\"Machine Learning and AI skills\"\n",
    "#     )\n",
    "# ]\n",
    "\n",
    "# # Insert fake profiles into MongoDB\n",
    "# profiles_collection.insert_many([profile.dict() for profile in fake_profiles])\n"
   ]
  },
  {
   "cell_type": "code",
   "execution_count": 30,
   "metadata": {},
   "outputs": [],
   "source": [
    "\n",
    "from langchain_core.prompts import ChatPromptTemplate\n",
    "from langchain_openai import ChatOpenAI\n",
    "from langchain.chat_models.base import BaseChatModel\n",
    "from textwrap import dedent\n",
    "import logging\n",
    "from pathlib import Path\n",
    "import pandas as pd\n",
    "from langchain_core.pydantic_v1 import BaseModel, Field\n",
    "from typing import List, Dict, Callable, Union\n",
    "import os\n",
    "from tqdm import tqdm\n",
    "from datetime import datetime\n",
    "# Setup logging as per the new configuration"
   ]
  },
  {
   "cell_type": "code",
   "execution_count": 31,
   "metadata": {},
   "outputs": [],
   "source": [
    "generate_fake_complete_prompt_str = dedent(\"\"\"\n",
    "You are a data generation app which creates profiles for participants at a hackathon. Given their form submission. Create a profile. If the information doesnt exist then feel free to create an interesting profile with relevant data.\n",
    "\n",
    "                                       \n",
    "{submission}\n",
    "\n",
    "\"\"\")"
   ]
  },
  {
   "cell_type": "code",
   "execution_count": 28,
   "metadata": {},
   "outputs": [
    {
     "ename": "NameError",
     "evalue": "name 'ProfileModel' is not defined",
     "output_type": "error",
     "traceback": [
      "\u001b[0;31m---------------------------------------------------------------------------\u001b[0m",
      "\u001b[0;31mNameError\u001b[0m                                 Traceback (most recent call last)",
      "Cell \u001b[0;32mIn[28], line 7\u001b[0m\n\u001b[1;32m      2\u001b[0m load_dotenv()\n\u001b[1;32m      4\u001b[0m mixtral_llm \u001b[38;5;241m=\u001b[39m Fireworks(\n\u001b[1;32m      5\u001b[0m     model\u001b[38;5;241m=\u001b[39m\u001b[38;5;124m\"\u001b[39m\u001b[38;5;124maccounts/fireworks/models/mixtral-8x7b-instruct\u001b[39m\u001b[38;5;124m\"\u001b[39m,)\n\u001b[0;32m----> 7\u001b[0m structured_llm \u001b[38;5;241m=\u001b[39m mixtral_llm\u001b[38;5;241m.\u001b[39mwith_structured_output(\u001b[43mProfileModel\u001b[49m)\n\u001b[1;32m      9\u001b[0m generate_fake_complete_prompt \u001b[38;5;241m=\u001b[39m ChatPromptTemplate\u001b[38;5;241m.\u001b[39mfrom_template(generate_fake_complete_prompt_str)\n\u001b[1;32m     11\u001b[0m generate_fake_complete_chain \u001b[38;5;241m=\u001b[39m generate_fake_complete_prompt \u001b[38;5;241m|\u001b[39m structured_llm\n",
      "\u001b[0;31mNameError\u001b[0m: name 'ProfileModel' is not defined"
     ]
    }
   ],
   "source": [
    "from langchain_fireworks import Fireworks \n",
    "load_dotenv()\n",
    "\n",
    "mixtral_llm = Fireworks(\n",
    "    model=\"accounts/fireworks/models/mixtral-8x7b-instruct\",)\n",
    "\n",
    "structured_llm = mixtral_llm.with_structured_output(ProfileModel)\n",
    "\n",
    "generate_fake_complete_prompt = ChatPromptTemplate.from_template(generate_fake_complete_prompt_str)\n",
    "\n",
    "generate_fake_complete_chain = generate_fake_complete_prompt | structured_llm\n",
    "\n",
    "generate_fake_complete_chain.invoke({\"submission\": formatted_profiles[0]})\n",
    "# category_chat_prompt = ChatPromptTemplate.from_template(run_config['prompt'])\n",
    "\n",
    "\n",
    "# categorize_chain = (category_chat_prompt | structured_llm).with_config({\"tags\": [\"experiment\"], \"metadata\": {\"experiment_name\": run_config['experiment_name']}})\n",
    "# return categorize_chain"
   ]
  },
  {
   "cell_type": "code",
   "execution_count": null,
   "metadata": {},
   "outputs": [],
   "source": []
  }
 ],
 "metadata": {
  "kernelspec": {
   "display_name": ".venv",
   "language": "python",
   "name": "python3"
  },
  "language_info": {
   "codemirror_mode": {
    "name": "ipython",
    "version": 3
   },
   "file_extension": ".py",
   "mimetype": "text/x-python",
   "name": "python",
   "nbconvert_exporter": "python",
   "pygments_lexer": "ipython3",
   "version": "3.12.3"
  }
 },
 "nbformat": 4,
 "nbformat_minor": 2
}
